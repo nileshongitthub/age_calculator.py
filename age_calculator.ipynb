{
 "cells": [
  {
   "cell_type": "code",
   "execution_count": 1,
   "id": "184eb15f-5d60-407c-b31f-047ddfed20ff",
   "metadata": {},
   "outputs": [],
   "source": [
    "#Project for calculating ages of person live in different timining mode like months, weeks, days, hours, minute and second\n",
    "#We are drfining the fuction by age_of_person(years)\n",
    "\n",
    "def age_of_person(years):\n",
    "    #we convert the years in the month\n",
    "    months = years * 12     #in a year have the 12 months\n",
    "\n",
    "    #we convert the years in the weeks\n",
    "    weeks = years * 52      #in a years have the 52 weeks\n",
    "\n",
    "    #we convert the years in the days\n",
    "    days = years * 365     #in a year have the 365 days\n",
    "\n",
    "    #we calculate hours by using the days\n",
    "    hours = days * 24      #a day is the 24 hours\n",
    "\n",
    "    #we calculate minutes by using the hours\n",
    "    minutes = hours * 60   #a hour is the 60 minutes\n",
    "\n",
    "    #we calculate second by using the seconds\n",
    "    seconds = minutes * 60 #a minute is the 60 seconds\n",
    "\n",
    "    #we prints the time parameter statements for user for provide the input \n",
    "    print(\"m for Months,\", \"w for Weeks,\", \"d for Days,\", \"h for Hours,\", \"min for Minutes,\", \"s for Seconds\")\n",
    "    \n",
    "    #providing time parameter for converting the various paramenter of age of person \n",
    "    user = (input(\"Choose any Time Parameter: \"))\n",
    "    \n",
    "    #we want to show time parameter\n",
    "    time_units={\"m\":\"months\", \"w\":\"weeks\", \"d\":\"days\", \"h\":\"hours\", \"min\":\"minutes\", \"s\":\"seconds\"}\n",
    "    #we need to provide the time parameter in dictionary for showing the results in various time parameter\n",
    "    dict={\"m\":months, \"w\":weeks, \"d\":days, \"h\":hours, \"min\":minutes, \"s\":seconds}\n",
    "    Time_Parameter = dict[user]   #we call the dictionary by using the user input\n",
    "\n",
    "    print(f\"Duration of person lived in {time_units[user]}\")   #print the statement with providing input by user\n",
    "    print(Time_Parameter)\n",
    "    \n",
    "\n",
    "#Now we are provide the user input function for call the define function\n",
    "years = int(input(f\"Age of a person (Enter your age in years):\"))\n",
    "\n",
    "#Now we are call the define function\n",
    "age_of_person(years)\n"
   ]
  },
  {
   "cell_type": "code",
   "execution_count": null,
   "id": "04115d54-1e54-4eba-a2b8-f2644c8274c7",
   "metadata": {},
   "outputs": [],
   "source": []
  }
 ],
 "metadata": {
  "kernelspec": {
   "display_name": "Python 3 (ipykernel)",
   "language": "python",
   "name": "python3"
  },
  "language_info": {
   "codemirror_mode": {
    "name": "ipython",
    "version": 3
   },
   "file_extension": ".py",
   "mimetype": "text/x-python",
   "name": "python",
   "nbconvert_exporter": "python",
   "pygments_lexer": "ipython3",
   "version": "3.12.4"
  }
 },
 "nbformat": 4,
 "nbformat_minor": 5
}
